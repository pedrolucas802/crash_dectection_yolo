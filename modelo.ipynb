{
 "cells": [
  {
   "metadata": {
    "ExecuteTime": {
     "end_time": "2024-06-13T17:42:52.420358Z",
     "start_time": "2024-06-13T17:42:52.408448Z"
    }
   },
   "cell_type": "code",
   "source": [
    "\n",
    "from pathlib import Path\n",
    "import yaml\n",
    "\n",
    "DATA_DIR = Path('..data/photos')\n",
    "TRAIN_DIR = DATA_DIR / 'train'\n",
    "VAL_DIR = DATA_DIR / 'val'\n",
    "TEST_DIR = DATA_DIR / 'test'\n",
    "\n",
    "data_yaml = dict(\n",
    "    train=str(TRAIN_DIR),\n",
    "    val=str(VAL_DIR),\n",
    "    test=str(VAL_DIR),\n",
    "    nc=2,\n",
    "    names=['Accident', 'Non Accident']\n",
    ")\n",
    "\n",
    "with open(DATA_DIR / 'data.yaml', 'w') as f:\n",
    "    yaml.dump(data_yaml, f)\n",
    "\n",
    "with open(DATA_DIR / 'data.yaml', 'r') as f:\n",
    "    print(f.read())"
   ],
   "id": "5f705e506c98113b",
   "outputs": [
    {
     "name": "stdout",
     "output_type": "stream",
     "text": [
      "names:\n",
      "- Accident\n",
      "- Non Accident\n",
      "nc: 2\n",
      "train: data/photos/train\n",
      "val: data/photos/val\n",
      "\n"
     ]
    }
   ],
   "execution_count": 1
  },
  {
   "metadata": {
    "ExecuteTime": {
     "end_time": "2024-06-13T17:46:14.746760Z",
     "start_time": "2024-06-13T17:45:14.116782Z"
    }
   },
   "cell_type": "code",
   "source": [
    "import subprocess\n",
    "\n",
    "subprocess.run(['git', 'clone', 'https://github.com/ultralytics/yolov5'], check=True)\n",
    "subprocess.run(['pip', 'install', '-r', 'yolov5/requirements.txt'], check=True)"
   ],
   "id": "27651feec67c682e",
   "outputs": [
    {
     "name": "stderr",
     "output_type": "stream",
     "text": [
      "Cloning into 'yolov5'...\n"
     ]
    },
    {
     "name": "stdout",
     "output_type": "stream",
     "text": [
      "Requirement already satisfied: gitpython>=3.1.30 in /opt/homebrew/lib/python3.11/site-packages (from -r yolov5/requirements.txt (line 5)) (3.1.42)\n",
      "Requirement already satisfied: matplotlib>=3.3 in /opt/homebrew/lib/python3.11/site-packages (from -r yolov5/requirements.txt (line 6)) (3.8.3)\n",
      "Requirement already satisfied: numpy>=1.23.5 in /opt/homebrew/lib/python3.11/site-packages (from -r yolov5/requirements.txt (line 7)) (1.26.4)\n",
      "Requirement already satisfied: opencv-python>=4.1.1 in /opt/homebrew/lib/python3.11/site-packages (from -r yolov5/requirements.txt (line 8)) (4.9.0.80)\n",
      "Requirement already satisfied: pillow>=10.3.0 in /opt/homebrew/lib/python3.11/site-packages (from -r yolov5/requirements.txt (line 9)) (10.3.0)\n",
      "Requirement already satisfied: psutil in /opt/homebrew/lib/python3.11/site-packages (from -r yolov5/requirements.txt (line 10)) (5.9.8)\n",
      "Requirement already satisfied: PyYAML>=5.3.1 in /opt/homebrew/lib/python3.11/site-packages (from -r yolov5/requirements.txt (line 11)) (6.0.1)\n",
      "Requirement already satisfied: requests>=2.32.0 in /opt/homebrew/lib/python3.11/site-packages (from -r yolov5/requirements.txt (line 12)) (2.32.3)\n",
      "Requirement already satisfied: scipy>=1.4.1 in /opt/homebrew/lib/python3.11/site-packages (from -r yolov5/requirements.txt (line 13)) (1.12.0)\n",
      "Requirement already satisfied: thop>=0.1.1 in /opt/homebrew/lib/python3.11/site-packages (from -r yolov5/requirements.txt (line 14)) (0.1.1.post2209072238)\n",
      "Requirement already satisfied: torch>=1.8.0 in /opt/homebrew/lib/python3.11/site-packages (from -r yolov5/requirements.txt (line 15)) (2.2.0)\n",
      "Requirement already satisfied: torchvision>=0.9.0 in /opt/homebrew/lib/python3.11/site-packages (from -r yolov5/requirements.txt (line 16)) (0.17.0)\n",
      "Requirement already satisfied: tqdm>=4.64.0 in /opt/homebrew/lib/python3.11/site-packages (from -r yolov5/requirements.txt (line 17)) (4.66.2)\n",
      "Requirement already satisfied: ultralytics>=8.0.232 in /opt/homebrew/lib/python3.11/site-packages (from -r yolov5/requirements.txt (line 18)) (8.2.31)\n",
      "Requirement already satisfied: pandas>=1.1.4 in /opt/homebrew/lib/python3.11/site-packages (from -r yolov5/requirements.txt (line 27)) (1.5.3)\n",
      "Requirement already satisfied: seaborn>=0.11.0 in /opt/homebrew/lib/python3.11/site-packages (from -r yolov5/requirements.txt (line 28)) (0.13.2)\n",
      "Requirement already satisfied: setuptools>=65.5.1 in /opt/homebrew/lib/python3.11/site-packages (from -r yolov5/requirements.txt (line 42)) (69.2.0)\n",
      "Requirement already satisfied: wheel>=0.38.0 in /opt/homebrew/lib/python3.11/site-packages (from -r yolov5/requirements.txt (line 50)) (0.43.0)\n",
      "Requirement already satisfied: gitdb<5,>=4.0.1 in /opt/homebrew/lib/python3.11/site-packages (from gitpython>=3.1.30->-r yolov5/requirements.txt (line 5)) (4.0.11)\n",
      "Requirement already satisfied: contourpy>=1.0.1 in /opt/homebrew/lib/python3.11/site-packages (from matplotlib>=3.3->-r yolov5/requirements.txt (line 6)) (1.2.0)\n",
      "Requirement already satisfied: cycler>=0.10 in /opt/homebrew/lib/python3.11/site-packages (from matplotlib>=3.3->-r yolov5/requirements.txt (line 6)) (0.12.1)\n",
      "Requirement already satisfied: fonttools>=4.22.0 in /opt/homebrew/lib/python3.11/site-packages (from matplotlib>=3.3->-r yolov5/requirements.txt (line 6)) (4.49.0)\n",
      "Requirement already satisfied: kiwisolver>=1.3.1 in /opt/homebrew/lib/python3.11/site-packages (from matplotlib>=3.3->-r yolov5/requirements.txt (line 6)) (1.4.5)\n",
      "Requirement already satisfied: packaging>=20.0 in /opt/homebrew/lib/python3.11/site-packages (from matplotlib>=3.3->-r yolov5/requirements.txt (line 6)) (23.2)\n",
      "Requirement already satisfied: pyparsing>=2.3.1 in /opt/homebrew/lib/python3.11/site-packages (from matplotlib>=3.3->-r yolov5/requirements.txt (line 6)) (3.1.1)\n",
      "Requirement already satisfied: python-dateutil>=2.7 in /opt/homebrew/lib/python3.11/site-packages (from matplotlib>=3.3->-r yolov5/requirements.txt (line 6)) (2.8.2)\n",
      "Requirement already satisfied: charset-normalizer<4,>=2 in /opt/homebrew/lib/python3.11/site-packages (from requests>=2.32.0->-r yolov5/requirements.txt (line 12)) (3.3.2)\n",
      "Requirement already satisfied: idna<4,>=2.5 in /opt/homebrew/lib/python3.11/site-packages (from requests>=2.32.0->-r yolov5/requirements.txt (line 12)) (3.6)\n",
      "Requirement already satisfied: urllib3<3,>=1.21.1 in /opt/homebrew/lib/python3.11/site-packages (from requests>=2.32.0->-r yolov5/requirements.txt (line 12)) (2.2.0)\n",
      "Requirement already satisfied: certifi>=2017.4.17 in /opt/homebrew/lib/python3.11/site-packages (from requests>=2.32.0->-r yolov5/requirements.txt (line 12)) (2024.2.2)\n",
      "Requirement already satisfied: filelock in /opt/homebrew/lib/python3.11/site-packages (from torch>=1.8.0->-r yolov5/requirements.txt (line 15)) (3.13.1)\n",
      "Requirement already satisfied: typing-extensions>=4.8.0 in /opt/homebrew/lib/python3.11/site-packages (from torch>=1.8.0->-r yolov5/requirements.txt (line 15)) (4.9.0)\n",
      "Requirement already satisfied: sympy in /opt/homebrew/lib/python3.11/site-packages (from torch>=1.8.0->-r yolov5/requirements.txt (line 15)) (1.12)\n",
      "Requirement already satisfied: networkx in /opt/homebrew/lib/python3.11/site-packages (from torch>=1.8.0->-r yolov5/requirements.txt (line 15)) (3.2.1)\n",
      "Requirement already satisfied: jinja2 in /opt/homebrew/lib/python3.11/site-packages (from torch>=1.8.0->-r yolov5/requirements.txt (line 15)) (3.1.3)\n",
      "Requirement already satisfied: fsspec in /opt/homebrew/lib/python3.11/site-packages (from torch>=1.8.0->-r yolov5/requirements.txt (line 15)) (2024.2.0)\n",
      "Requirement already satisfied: py-cpuinfo in /opt/homebrew/lib/python3.11/site-packages (from ultralytics>=8.0.232->-r yolov5/requirements.txt (line 18)) (9.0.0)\n",
      "Requirement already satisfied: ultralytics-thop>=0.2.5 in /opt/homebrew/lib/python3.11/site-packages (from ultralytics>=8.0.232->-r yolov5/requirements.txt (line 18)) (0.2.8)\n",
      "Requirement already satisfied: pytz>=2020.1 in /opt/homebrew/lib/python3.11/site-packages (from pandas>=1.1.4->-r yolov5/requirements.txt (line 27)) (2024.1)\n",
      "Requirement already satisfied: smmap<6,>=3.0.1 in /opt/homebrew/lib/python3.11/site-packages (from gitdb<5,>=4.0.1->gitpython>=3.1.30->-r yolov5/requirements.txt (line 5)) (5.0.1)\n",
      "Requirement already satisfied: six>=1.5 in /opt/homebrew/lib/python3.11/site-packages (from python-dateutil>=2.7->matplotlib>=3.3->-r yolov5/requirements.txt (line 6)) (1.16.0)\n",
      "Requirement already satisfied: MarkupSafe>=2.0 in /opt/homebrew/lib/python3.11/site-packages (from jinja2->torch>=1.8.0->-r yolov5/requirements.txt (line 15)) (2.1.5)\n",
      "Requirement already satisfied: mpmath>=0.19 in /opt/homebrew/lib/python3.11/site-packages (from sympy->torch>=1.8.0->-r yolov5/requirements.txt (line 15)) (1.3.0)\n"
     ]
    },
    {
     "data": {
      "text/plain": [
       "CompletedProcess(args=['pip', 'install', '-r', 'yolov5/requirements.txt'], returncode=0)"
      ]
     },
     "execution_count": 3,
     "metadata": {},
     "output_type": "execute_result"
    }
   ],
   "execution_count": 3
  },
  {
   "metadata": {
    "ExecuteTime": {
     "end_time": "2024-06-13T20:05:16.579992Z",
     "start_time": "2024-06-13T19:10:36.533330Z"
    }
   },
   "cell_type": "code",
   "source": [
    "import subprocess\n",
    "from pathlib import Path\n",
    "import sys\n",
    "\n",
    "DATA_DIR = Path('data/photos')\n",
    "YOLOV5_DIR = Path('yolov5')\n",
    "PYTHON_EXECUTABLE = sys.executable\n",
    "\n",
    "\n",
    "# print(f\"directory: {YOLOV5_DIR}\")\n",
    "\n",
    "for split in ['train', 'val', 'test']:\n",
    "    split_dir = DATA_DIR / split\n",
    "    accident_dir = split_dir / 'Accident'\n",
    "    non_accident_dir = split_dir / 'Non Accident'\n",
    "    \n",
    "subprocess.run([\n",
    "    PYTHON_EXECUTABLE, str(YOLOV5_DIR / 'train.py'), \n",
    "    '--img', '640', \n",
    "    '--batch', '16', \n",
    "    '--epochs', '50', \n",
    "    '--data', str(DATA_DIR / 'data.yaml'), \n",
    "    '--weights', 'yolov5s.pt'\n",
    "], check=True)"
   ],
   "id": "12dd422050d07ed4",
   "outputs": [
    {
     "name": "stdout",
     "output_type": "stream",
     "text": [
      "YOLOv5 directory: yolov5\n",
      "Train directories: [PosixPath('data/photos/train/Accident/test2_2.txt'), PosixPath('data/photos/train/Accident/test28_21.jpg'), PosixPath('data/photos/train/Accident/test21_11.jpg')], [PosixPath('data/photos/train/Non Accident/5_14.jpg'), PosixPath('data/photos/train/Non Accident/5_28.jpg'), PosixPath('data/photos/train/Non Accident/test1_2.jpg')]\n",
      "Val directories: [PosixPath('data/photos/val/Accident/test23_15.jpg'), PosixPath('data/photos/val/Accident/test7_32.jpg'), PosixPath('data/photos/val/Accident/test15_9.txt')], [PosixPath('data/photos/val/Non Accident/test25_5.jpg'), PosixPath('data/photos/val/Non Accident/test4_14.txt'), PosixPath('data/photos/val/Non Accident/test8_9.txt')]\n",
      "Test directories: [PosixPath('data/photos/test/Accident/acc1 (7).jpg'), PosixPath('data/photos/test/Accident/test26_30.jpg'), PosixPath('data/photos/test/Accident/test15_15.jpg')], [PosixPath('data/photos/test/Non Accident/test26_5.txt'), PosixPath('data/photos/test/Non Accident/test4_28.txt'), PosixPath('data/photos/test/Non Accident/test3_21.txt')]\n"
     ]
    },
    {
     "name": "stderr",
     "output_type": "stream",
     "text": [
      "\u001B[34m\u001B[1mtrain: \u001B[0mweights=yolov5s.pt, cfg=, data=data/photos/data.yaml, hyp=yolov5/data/hyps/hyp.scratch-low.yaml, epochs=10, batch_size=16, imgsz=640, rect=False, resume=False, nosave=False, noval=False, noautoanchor=False, noplots=False, evolve=None, evolve_population=yolov5/data/hyps, resume_evolve=None, bucket=, cache=None, image_weights=False, device=, multi_scale=False, single_cls=False, optimizer=SGD, sync_bn=False, workers=8, project=yolov5/runs/train, name=exp, exist_ok=False, quad=False, cos_lr=False, label_smoothing=0.0, patience=100, freeze=[0], save_period=-1, seed=0, local_rank=-1, entity=None, upload_dataset=False, bbox_interval=-1, artifact_alias=latest, ndjson_console=False, ndjson_file=False\n",
      "\u001B[34m\u001B[1mgithub: \u001B[0mup to date with https://github.com/ultralytics/yolov5 ✅\n",
      "YOLOv5 🚀 v7.0-321-g3742ab49 Python-3.11.9 torch-2.2.0 CPU\n",
      "\n",
      "\u001B[34m\u001B[1mhyperparameters: \u001B[0mlr0=0.01, lrf=0.01, momentum=0.937, weight_decay=0.0005, warmup_epochs=3.0, warmup_momentum=0.8, warmup_bias_lr=0.1, box=0.05, cls=0.5, cls_pw=1.0, obj=1.0, obj_pw=1.0, iou_t=0.2, anchor_t=4.0, fl_gamma=0.0, hsv_h=0.015, hsv_s=0.7, hsv_v=0.4, degrees=0.0, translate=0.1, scale=0.5, shear=0.0, perspective=0.0, flipud=0.0, fliplr=0.5, mosaic=1.0, mixup=0.0, copy_paste=0.0\n",
      "\u001B[34m\u001B[1mComet: \u001B[0mrun 'pip install comet_ml' to automatically track and visualize YOLOv5 🚀 runs in Comet\n",
      "\u001B[34m\u001B[1mTensorBoard: \u001B[0mStart with 'tensorboard --logdir yolov5/runs/train', view at http://localhost:6006/\n",
      "Overriding model.yaml nc=80 with nc=2\n",
      "\n",
      "                 from  n    params  module                                  arguments                     \n",
      "  0                -1  1      3520  models.common.Conv                      [3, 32, 6, 2, 2]              \n",
      "  1                -1  1     18560  models.common.Conv                      [32, 64, 3, 2]                \n",
      "  2                -1  1     18816  models.common.C3                        [64, 64, 1]                   \n",
      "  3                -1  1     73984  models.common.Conv                      [64, 128, 3, 2]               \n",
      "  4                -1  2    115712  models.common.C3                        [128, 128, 2]                 \n",
      "  5                -1  1    295424  models.common.Conv                      [128, 256, 3, 2]              \n",
      "  6                -1  3    625152  models.common.C3                        [256, 256, 3]                 \n",
      "  7                -1  1   1180672  models.common.Conv                      [256, 512, 3, 2]              \n",
      "  8                -1  1   1182720  models.common.C3                        [512, 512, 1]                 \n",
      "  9                -1  1    656896  models.common.SPPF                      [512, 512, 5]                 \n",
      " 10                -1  1    131584  models.common.Conv                      [512, 256, 1, 1]              \n",
      " 11                -1  1         0  torch.nn.modules.upsampling.Upsample    [None, 2, 'nearest']          \n",
      " 12           [-1, 6]  1         0  models.common.Concat                    [1]                           \n",
      " 13                -1  1    361984  models.common.C3                        [512, 256, 1, False]          \n",
      " 14                -1  1     33024  models.common.Conv                      [256, 128, 1, 1]              \n",
      " 15                -1  1         0  torch.nn.modules.upsampling.Upsample    [None, 2, 'nearest']          \n",
      " 16           [-1, 4]  1         0  models.common.Concat                    [1]                           \n",
      " 17                -1  1     90880  models.common.C3                        [256, 128, 1, False]          \n",
      " 18                -1  1    147712  models.common.Conv                      [128, 128, 3, 2]              \n",
      " 19          [-1, 14]  1         0  models.common.Concat                    [1]                           \n",
      " 20                -1  1    296448  models.common.C3                        [256, 256, 1, False]          \n",
      " 21                -1  1    590336  models.common.Conv                      [256, 256, 3, 2]              \n",
      " 22          [-1, 10]  1         0  models.common.Concat                    [1]                           \n",
      " 23                -1  1   1182720  models.common.C3                        [512, 512, 1, False]          \n",
      " 24      [17, 20, 23]  1     18879  models.yolo.Detect                      [2, [[10, 13, 16, 30, 33, 23], [30, 61, 62, 45, 59, 119], [116, 90, 156, 198, 373, 326]], [128, 256, 512]]\n",
      "Model summary: 214 layers, 7025023 parameters, 7025023 gradients, 16.0 GFLOPs\n",
      "\n",
      "Transferred 343/349 items from yolov5s.pt\n",
      "\u001B[34m\u001B[1moptimizer:\u001B[0m SGD(lr=0.01) with parameter groups 57 weight(decay=0.0), 60 weight(decay=0.0005), 60 bias\n",
      "\u001B[34m\u001B[1mtrain: \u001B[0mScanning /Users/pedro/Desktop/crash_dectection_cnn/data/photos/train/Accident.cache... 791 images, 0 backgrounds, 0 corrupt: 100%|██████████| 791/791 [00:00<?, ?it/s]\n",
      "\u001B[34m\u001B[1mval: \u001B[0mScanning /Users/pedro/Desktop/crash_dectection_cnn/data/photos/val/Accident.cache... 98 images, 0 backgrounds, 0 corrupt: 100%|██████████| 98/98 [00:00<?, ?it/s]\n",
      "\n",
      "\u001B[34m\u001B[1mAutoAnchor: \u001B[0m4.88 anchors/target, 1.000 Best Possible Recall (BPR). Current anchors are a good fit to dataset ✅\n",
      "Plotting labels to yolov5/runs/train/exp7/labels.jpg... \n",
      "Image sizes 640 train, 640 val\n",
      "Using 8 dataloader workers\n",
      "Logging results to \u001B[1myolov5/runs/train/exp7\u001B[0m\n",
      "Starting training for 10 epochs...\n",
      "\n",
      "      Epoch    GPU_mem   box_loss   obj_loss   cls_loss  Instances       Size\n",
      "        0/9         0G    0.09482    0.02862    0.02812         11        640: 100%|██████████| 50/50 [05:11<00:00,  6.23s/it]\n",
      "                 Class     Images  Instances          P          R      mAP50   mAP50-95: 100%|██████████| 4/4 [00:14<00:00,  3.50s/it]\n",
      "                   all         98         98    0.00311      0.918    0.00658    0.00189\n",
      "\n",
      "      Epoch    GPU_mem   box_loss   obj_loss   cls_loss  Instances       Size\n",
      "        1/9         0G    0.06678    0.02956    0.02577         17        640: 100%|██████████| 50/50 [05:07<00:00,  6.14s/it]\n",
      "                 Class     Images  Instances          P          R      mAP50   mAP50-95: 100%|██████████| 4/4 [00:13<00:00,  3.34s/it]\n",
      "                   all         98         98    0.00334      0.989     0.0566     0.0139\n",
      "\n",
      "      Epoch    GPU_mem   box_loss   obj_loss   cls_loss  Instances       Size\n",
      "        2/9         0G    0.05925    0.02751    0.02441         11        640: 100%|██████████| 50/50 [05:15<00:00,  6.30s/it]\n",
      "                 Class     Images  Instances          P          R      mAP50   mAP50-95: 100%|██████████| 4/4 [00:13<00:00,  3.31s/it]\n",
      "                   all         98         98     0.0275      0.981     0.0631     0.0251\n",
      "\n",
      "      Epoch    GPU_mem   box_loss   obj_loss   cls_loss  Instances       Size\n",
      "        3/9         0G    0.05277    0.02535    0.02108         17        640: 100%|██████████| 50/50 [04:58<00:00,  5.98s/it]\n",
      "                 Class     Images  Instances          P          R      mAP50   mAP50-95: 100%|██████████| 4/4 [00:13<00:00,  3.26s/it]\n",
      "                   all         98         98      0.134      0.575      0.168     0.0351\n",
      "\n",
      "      Epoch    GPU_mem   box_loss   obj_loss   cls_loss  Instances       Size\n",
      "        4/9         0G    0.04914    0.02308    0.01711         12        640: 100%|██████████| 50/50 [04:57<00:00,  5.95s/it]\n",
      "                 Class     Images  Instances          P          R      mAP50   mAP50-95: 100%|██████████| 4/4 [00:12<00:00,  3.23s/it]\n",
      "                   all         98         98      0.118      0.604       0.11      0.037\n",
      "\n",
      "      Epoch    GPU_mem   box_loss   obj_loss   cls_loss  Instances       Size\n",
      "        5/9         0G     0.0458    0.02095    0.01405         17        640: 100%|██████████| 50/50 [05:05<00:00,  6.12s/it]\n",
      "                 Class     Images  Instances          P          R      mAP50   mAP50-95: 100%|██████████| 4/4 [00:13<00:00,  3.26s/it]\n",
      "                   all         98         98      0.443      0.622      0.506      0.206\n",
      "\n",
      "      Epoch    GPU_mem   box_loss   obj_loss   cls_loss  Instances       Size\n",
      "        6/9         0G    0.04158    0.01877    0.01394         12        640: 100%|██████████| 50/50 [04:51<00:00,  5.83s/it]\n",
      "                 Class     Images  Instances          P          R      mAP50   mAP50-95: 100%|██████████| 4/4 [00:12<00:00,  3.22s/it]\n",
      "                   all         98         98      0.484      0.651       0.59      0.257\n",
      "\n",
      "      Epoch    GPU_mem   box_loss   obj_loss   cls_loss  Instances       Size\n",
      "        7/9         0G    0.03826    0.01763    0.01079         12        640: 100%|██████████| 50/50 [04:52<00:00,  5.85s/it]\n",
      "                 Class     Images  Instances          P          R      mAP50   mAP50-95: 100%|██████████| 4/4 [00:12<00:00,  3.21s/it]\n",
      "                   all         98         98      0.776      0.676       0.79      0.428\n",
      "\n",
      "      Epoch    GPU_mem   box_loss   obj_loss   cls_loss  Instances       Size\n",
      "        8/9         0G    0.03559    0.01661       0.01         15        640: 100%|██████████| 50/50 [04:58<00:00,  5.98s/it]\n",
      "                 Class     Images  Instances          P          R      mAP50   mAP50-95: 100%|██████████| 4/4 [00:13<00:00,  3.34s/it]\n",
      "                   all         98         98      0.846      0.782      0.873      0.498\n",
      "\n",
      "      Epoch    GPU_mem   box_loss   obj_loss   cls_loss  Instances       Size\n",
      "        9/9         0G    0.03328    0.01637   0.009947         17        640: 100%|██████████| 50/50 [04:55<00:00,  5.91s/it]\n",
      "                 Class     Images  Instances          P          R      mAP50   mAP50-95: 100%|██████████| 4/4 [00:12<00:00,  3.19s/it]\n",
      "                   all         98         98      0.824      0.875      0.889      0.566\n",
      "\n",
      "10 epochs completed in 0.875 hours.\n",
      "Optimizer stripped from yolov5/runs/train/exp7/weights/last.pt, 14.4MB\n",
      "Optimizer stripped from yolov5/runs/train/exp7/weights/best.pt, 14.4MB\n",
      "\n",
      "Validating yolov5/runs/train/exp7/weights/best.pt...\n",
      "Fusing layers... \n",
      "Model summary: 157 layers, 7015519 parameters, 0 gradients, 15.8 GFLOPs\n",
      "                 Class     Images  Instances          P          R      mAP50   mAP50-95: 100%|██████████| 4/4 [00:12<00:00,  3.12s/it]\n",
      "                   all         98         98      0.824      0.875       0.89      0.564\n",
      "              Accident         98         46      0.872      0.826      0.897      0.538\n",
      "          Non Accident         98         52      0.777      0.923      0.883      0.589\n",
      "Results saved to \u001B[1myolov5/runs/train/exp7\u001B[0m\n"
     ]
    },
    {
     "data": {
      "text/plain": [
       "CompletedProcess(args=['/opt/homebrew/opt/python@3.11/bin/python3.11', 'yolov5/train.py', '--img', '640', '--batch', '16', '--epochs', '10', '--data', 'data/photos/data.yaml', '--weights', 'yolov5s.pt'], returncode=0)"
      ]
     },
     "execution_count": 19,
     "metadata": {},
     "output_type": "execute_result"
    }
   ],
   "execution_count": 19
  },
  {
   "metadata": {
    "ExecuteTime": {
     "end_time": "2024-06-13T21:44:43.588198Z",
     "start_time": "2024-06-13T21:44:40.162958Z"
    }
   },
   "cell_type": "code",
   "source": [
    "\n",
    "import subprocess\n",
    "from pathlib import Path\n",
    "import sys\n",
    "\n",
    "DATA_DIR = Path('data/photos')\n",
    "YOLOV5_DIR = Path('yolov5')\n",
    "PYTHON_EXECUTABLE = sys.executable\n",
    "\n",
    "weights_file = Path('yolov5/runs/train/exp7/weights/best.pt')\n",
    "\n",
    "# false_test = Path('data/photos/test/Non Accident/test4_4.jpg')  \n",
    "test = Path('data/img.png')  \n",
    "\n",
    "subprocess.run([\n",
    "    PYTHON_EXECUTABLE, str(YOLOV5_DIR / 'detect.py'), \n",
    "    '--weights', str(weights_file), \n",
    "    '--source', str(test), \n",
    "    '--img', '640',\n",
    "    '--save-txt'  \n",
    "], check=True)"
   ],
   "id": "34ae9f74990791d1",
   "outputs": [
    {
     "name": "stdout",
     "output_type": "stream",
     "text": [
      "Using weights from: yolov5/runs/train/exp7/weights/best.pt\n"
     ]
    },
    {
     "name": "stderr",
     "output_type": "stream",
     "text": [
      "\u001B[34m\u001B[1mdetect: \u001B[0mweights=['yolov5/runs/train/exp7/weights/best.pt'], source=data/img.png, data=yolov5/data/coco128.yaml, imgsz=[640, 640], conf_thres=0.25, iou_thres=0.45, max_det=1000, device=, view_img=False, save_txt=True, save_csv=False, save_conf=False, save_crop=False, nosave=False, classes=None, agnostic_nms=False, augment=False, visualize=False, update=False, project=yolov5/runs/detect, name=exp, exist_ok=False, line_thickness=3, hide_labels=False, hide_conf=False, half=False, dnn=False, vid_stride=1\n",
      "YOLOv5 🚀 v7.0-321-g3742ab49 Python-3.11.9 torch-2.2.0 CPU\n",
      "\n",
      "Fusing layers... \n",
      "Model summary: 157 layers, 7015519 parameters, 0 gradients, 15.8 GFLOPs\n",
      "image 1/1 /Users/pedro/Desktop/crash_dectection_cnn/data/img.png: 384x640 1 Accident, 40.6ms\n",
      "Speed: 0.9ms pre-process, 40.6ms inference, 5.5ms NMS per image at shape (1, 3, 640, 640)\n",
      "Results saved to \u001B[1myolov5/runs/detect/exp6\u001B[0m\n",
      "1 labels saved to yolov5/runs/detect/exp6/labels\n"
     ]
    },
    {
     "data": {
      "text/plain": [
       "CompletedProcess(args=['/opt/homebrew/opt/python@3.11/bin/python3.11', 'yolov5/detect.py', '--weights', 'yolov5/runs/train/exp7/weights/best.pt', '--source', 'data/img.png', '--img', '640', '--save-txt'], returncode=0)"
      ]
     },
     "execution_count": 29,
     "metadata": {},
     "output_type": "execute_result"
    }
   ],
   "execution_count": 29
  }
 ],
 "metadata": {
  "kernelspec": {
   "display_name": "Python 3",
   "language": "python",
   "name": "python3"
  },
  "language_info": {
   "codemirror_mode": {
    "name": "ipython",
    "version": 2
   },
   "file_extension": ".py",
   "mimetype": "text/x-python",
   "name": "python",
   "nbconvert_exporter": "python",
   "pygments_lexer": "ipython2",
   "version": "2.7.6"
  }
 },
 "nbformat": 4,
 "nbformat_minor": 5
}
